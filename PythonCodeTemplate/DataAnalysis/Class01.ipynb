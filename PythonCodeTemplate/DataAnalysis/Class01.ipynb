{
 "cells": [
  {
   "cell_type": "code",
   "execution_count": 2,
   "metadata": {
    "collapsed": true,
    "ExecuteTime": {
     "start_time": "2023-05-21T19:54:43.644696Z",
     "end_time": "2023-05-21T19:54:43.692568Z"
    }
   },
   "outputs": [
    {
     "name": "stdout",
     "output_type": "stream",
     "text": [
      "3.141592653589793 2.718281828459045\n"
     ]
    }
   ],
   "source": [
    "import numpy as np\n",
    "print(np.pi, np.e)"
   ]
  },
  {
   "cell_type": "code",
   "execution_count": 4,
   "outputs": [
    {
     "data": {
      "text/plain": "4"
     },
     "execution_count": 4,
     "metadata": {},
     "output_type": "execute_result"
    }
   ],
   "source": [
    "s = \"Hello World\"\n",
    "s.find(\"o\")"
   ],
   "metadata": {
    "collapsed": false,
    "ExecuteTime": {
     "start_time": "2023-05-21T19:55:40.823130Z",
     "end_time": "2023-05-21T19:55:40.860455Z"
    }
   }
  },
  {
   "cell_type": "code",
   "execution_count": 6,
   "outputs": [
    {
     "name": "stdout",
     "output_type": "stream",
     "text": [
      "[1, 2, 3, 4, 5] 1 [4]\n"
     ]
    }
   ],
   "source": [
    "a = [1,2,3,4,5]\n",
    "print(a, a[0], a[3:4])"
   ],
   "metadata": {
    "collapsed": false,
    "ExecuteTime": {
     "start_time": "2023-05-21T19:56:48.477214Z",
     "end_time": "2023-05-21T19:56:48.490934Z"
    }
   }
  },
  {
   "cell_type": "code",
   "execution_count": 13,
   "outputs": [
    {
     "name": "stdout",
     "output_type": "stream",
     "text": [
      "['', 'affairs', 'gender', 'age', 'yearsmarried', 'children', 'religiousness', 'education', 'occupation', 'rating']\n",
      "['4', '0', 'male', '37', '10', 'no', '3', '18', '7', '4']\n"
     ]
    }
   ],
   "source": [
    "# 读取ccsv\n",
    "import csv\n",
    "data = []\n",
    "f = open(r\"./Affairs.csv\", 'r')\n",
    "csvReader = csv.reader(f, delimiter=',')\n",
    "header = csvReader.__next__()\n",
    "for row in csvReader:\n",
    "    data.append(row)\n",
    "\n",
    "print(header)\n",
    "print(data[0])"
   ],
   "metadata": {
    "collapsed": false,
    "ExecuteTime": {
     "start_time": "2023-05-21T20:06:44.851627Z",
     "end_time": "2023-05-21T20:06:44.864327Z"
    }
   }
  },
  {
   "cell_type": "code",
   "execution_count": 14,
   "outputs": [],
   "source": [
    "# 保存CSV\n",
    "with open(r'./Affairs1.csv', 'w') as f2:\n",
    "    cw = csv.writer(f2, lineterminator='\\n')\n",
    "    cw.writerow(header)\n",
    "    for item in data:\n",
    "        cw.writerow(item)"
   ],
   "metadata": {
    "collapsed": false,
    "ExecuteTime": {
     "start_time": "2023-05-21T20:08:55.996338Z",
     "end_time": "2023-05-21T20:08:56.014739Z"
    }
   }
  },
  {
   "cell_type": "code",
   "execution_count": 15,
   "outputs": [],
   "source": [
    "# 保存CSV\n",
    "with open(r'./Affairs1.csv', 'w') as f2:\n",
    "    cw = csv.writer(f2, lineterminator='\\n')\n",
    "    cw.writerow(header)\n",
    "    cw.writerows(data)"
   ],
   "metadata": {
    "collapsed": false,
    "ExecuteTime": {
     "start_time": "2023-05-21T20:10:08.906579Z",
     "end_time": "2023-05-21T20:10:08.923888Z"
    }
   }
  },
  {
   "cell_type": "code",
   "execution_count": 22,
   "outputs": [
    {
     "name": "stdout",
     "output_type": "stream",
     "text": [
      "{'sites': [{'name': '教程', 'url': 'www.practice.com'}, {'name': 'google', 'url': 'www.google.com'}, {'name': '微博', 'url': 'www.weibo.com'}]} <class 'dict'> [{'name': '教程', 'url': 'www.practice.com'}, {'name': 'google', 'url': 'www.google.com'}, {'name': '微博', 'url': 'www.weibo.com'}] <class 'list'>\n"
     ]
    }
   ],
   "source": [
    "# 读取json\n",
    "import json\n",
    "with open(r'./test.json', encoding='utf-8') as f:\n",
    "    f_read = f.read()\n",
    "data = json.loads(f_read)\n",
    "print(data, type(data), data['sites'], type(data['sites']))"
   ],
   "metadata": {
    "collapsed": false,
    "ExecuteTime": {
     "start_time": "2023-05-21T20:23:32.839174Z",
     "end_time": "2023-05-21T20:23:32.858122Z"
    }
   }
  },
  {
   "cell_type": "code",
   "execution_count": 27,
   "outputs": [],
   "source": [
    "# 写入json\n",
    "with open(r'./test_copy.json', 'w') as f:\n",
    "    json.dump(data, f, ensure_ascii=True, indent=4)"
   ],
   "metadata": {
    "collapsed": false,
    "ExecuteTime": {
     "start_time": "2023-05-21T20:26:10.261664Z",
     "end_time": "2023-05-21T20:26:10.281595Z"
    }
   }
  },
  {
   "cell_type": "code",
   "execution_count": null,
   "outputs": [],
   "source": [],
   "metadata": {
    "collapsed": false
   }
  }
 ],
 "metadata": {
  "kernelspec": {
   "display_name": "Python 3",
   "language": "python",
   "name": "python3"
  },
  "language_info": {
   "codemirror_mode": {
    "name": "ipython",
    "version": 2
   },
   "file_extension": ".py",
   "mimetype": "text/x-python",
   "name": "python",
   "nbconvert_exporter": "python",
   "pygments_lexer": "ipython2",
   "version": "2.7.6"
  }
 },
 "nbformat": 4,
 "nbformat_minor": 0
}
