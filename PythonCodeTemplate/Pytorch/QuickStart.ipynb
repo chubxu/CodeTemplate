{
 "cells": [
  {
   "cell_type": "markdown",
   "source": [
    "# QUICKSTART\n",
    "本节贯穿机器学习中常见任务的 API。请参阅每个部分中的链接以深入了解。"
   ],
   "metadata": {
    "collapsed": false
   }
  },
  {
   "cell_type": "markdown",
   "source": [
    "## Working with data\n",
    "PyTorch 有两个用于[处理数据的原语](https://pytorch.org/docs/stable/data.html)：torch.utils.data.DataLoader 和 torch.utils.data.Dataset。Dataset 存储样本及其相应的标签，DataLoader 将一个 iterable 包装在 Dataset 里面。"
   ],
   "metadata": {
    "collapsed": false
   }
  },
  {
   "cell_type": "code",
   "execution_count": 1,
   "outputs": [],
   "source": [
    "import torch\n",
    "from torch import nn\n",
    "from torch.utils.data import DataLoader\n",
    "from torchvision import datasets\n",
    "from torchvision.transforms import ToTensor"
   ],
   "metadata": {
    "collapsed": false,
    "ExecuteTime": {
     "start_time": "2023-04-29T10:30:37.064212Z",
     "end_time": "2023-04-29T10:30:59.034061Z"
    }
   }
  },
  {
   "cell_type": "markdown",
   "source": [
    "PyTorch 提供特定领域的库，例如 [TorchText](https://pytorch.org/text/stable/index.html)、[TorchVision](https://pytorch.org/vision/stable/index.html) 和 [TorchAudio](https://pytorch.org/audio/stable/index.html)，所有这些库都包含数据集。对于本教程，我们将使用 TorchVision 数据集。\n",
    "\n",
    "torchvision.datasets 模块包含许多现实世界视觉数据的 Dataset 对象，如 CIFAR、COCO（此处为[完整列表](https://pytorch.org/vision/stable/datasets.html)）。在本教程中，我们使用 FashionMNIST（翻译者注：FashionMNIST 是一个替代 MNIST 手写数字集的图像数据集。 其涵盖了来自 10 种类别的共 7 万个不同商品的正面图片。FashionMNIST 的大小、格式和训练集/测试集划分与原始的 MNIST 完全一致。60000/10000 的训练测试数据划分，28x28 的灰度图片） 数据集。\n",
    "\n",
    "每个 TorchVision 数据集都包含两个参数：transform 和 target_transform，分别用于修改样本和标签。"
   ],
   "metadata": {
    "collapsed": false
   }
  },
  {
   "cell_type": "code",
   "execution_count": null,
   "outputs": [],
   "source": [
    "# Download training data from open datasets.\n",
    "training_data = datasets.FashionMNIST(\n",
    "    root=\"data\",\n",
    "    train=True,\n",
    "    download=True,\n",
    "    transform=ToTensor(),\n",
    ")\n",
    "\n",
    "# Download test data from open datasets.\n",
    "test_data = datasets.FashionMNIST(\n",
    "    root=\"data\",\n",
    "    train=False,\n",
    "    download=False,\n",
    "    transform=ToTensor(),\n",
    ")"
   ],
   "metadata": {
    "collapsed": false
   }
  },
  {
   "cell_type": "markdown",
   "source": [
    "我们将数据集作为参数传递给 DataLoader。这在我们的数据集上包装了一个可迭代对象，并支持自动批处理、采样、混洗和多进程数据加载。这里我们定义了一个 64 的批量大小，即数据加载器迭代器中的每个元素将返回一批 64 个特征和标签。"
   ],
   "metadata": {
    "collapsed": false
   }
  },
  {
   "cell_type": "code",
   "execution_count": 4,
   "outputs": [
    {
     "name": "stdout",
     "output_type": "stream",
     "text": [
      "Shape of X [N, C, H, W]: torch.Size([64, 1, 28, 28])\n",
      "Shape of y: torch.Size([64]) torch.int64\n"
     ]
    }
   ],
   "source": [
    "batch_size = 64\n",
    "\n",
    "# Create data loaders.\n",
    "train_dataloader = DataLoader(training_data, batch_size=batch_size)\n",
    "test_dataloader = DataLoader(test_data, batch_size=batch_size)\n",
    "\n",
    "for X, y in test_dataloader:\n",
    "    print(f\"Shape of X [N, C, H, W]: {X.shape}\")\n",
    "    print(f\"Shape of y: {y.shape} {y.dtype}\")\n",
    "    break"
   ],
   "metadata": {
    "collapsed": false,
    "ExecuteTime": {
     "start_time": "2023-04-29T10:53:53.694213Z",
     "end_time": "2023-04-29T10:53:53.725457Z"
    }
   }
  },
  {
   "cell_type": "markdown",
   "source": [
    "阅读有关在 PyTorch 中[加载数据](https://pytorch.org/tutorials/beginner/basics/data_tutorial.html)的更多信息。"
   ],
   "metadata": {
    "collapsed": false
   }
  },
  {
   "cell_type": "markdown",
   "source": [
    "## 创建模型\n",
    "为了在 PyTorch 中定义神经网络，我们创建了一个继承自 [nn.Module](https://pytorch.org/docs/stable/generated/torch.nn.Module.html) 的类。我们在 __init__ 函数中定义网络层，并在 forward 函数中指定数据在网络中如何进行前向传播。为了加速神经网络的训练，我们将其移至 GPU 或 MPS（如果可用）。"
   ],
   "metadata": {
    "collapsed": false
   }
  },
  {
   "cell_type": "code",
   "execution_count": 6,
   "outputs": [
    {
     "name": "stdout",
     "output_type": "stream",
     "text": [
      "Using cpu device\n",
      "NeuralNetwork(\n",
      "  (flatten): Flatten(start_dim=1, end_dim=-1)\n",
      "  (linear_relu_stack): Sequential(\n",
      "    (0): Linear(in_features=784, out_features=512, bias=True)\n",
      "    (1): ReLU()\n",
      "    (2): Linear(in_features=512, out_features=512, bias=True)\n",
      "    (3): ReLU()\n",
      "    (4): Linear(in_features=512, out_features=10, bias=True)\n",
      "  )\n",
      ")\n"
     ]
    }
   ],
   "source": [
    "# Get cpu, gpu or mps device for training.\n",
    "device = (\n",
    "    \"cuda\"\n",
    "    if torch.cuda.is_available()\n",
    "    else \"mps\"\n",
    "    if torch.backends.mps.is_available()\n",
    "    else \"cpu\"\n",
    ")\n",
    "print(f\"Using {device} device\")\n",
    "\n",
    "# Define model\n",
    "class NeuralNetwork(nn.Module):\n",
    "    def __init__(self):\n",
    "        super().__init__()\n",
    "        self.flatten = nn.Flatten()\n",
    "        self.linear_relu_stack = nn.Sequential(\n",
    "            nn.Linear(28*28, 512),\n",
    "            nn.ReLU(),\n",
    "            nn.Linear(512, 512),\n",
    "            nn.ReLU(),\n",
    "            nn.Linear(512, 10)\n",
    "        )\n",
    "\n",
    "    def forward(self, x):\n",
    "        x = self.flatten(x)\n",
    "        logits = self.linear_relu_stack(x)\n",
    "        return logits\n",
    "\n",
    "model = NeuralNetwork().to(device)\n",
    "print(model)"
   ],
   "metadata": {
    "collapsed": false,
    "ExecuteTime": {
     "start_time": "2023-04-29T11:04:25.497039Z",
     "end_time": "2023-04-29T11:04:25.514902Z"
    }
   }
  },
  {
   "cell_type": "markdown",
   "source": [
    "阅读有关在 PyTorch 中[构建神经网络](https://pytorch.org/tutorials/beginner/basics/buildmodel_tutorial.html)的更多信息。"
   ],
   "metadata": {
    "collapsed": false
   }
  },
  {
   "cell_type": "markdown",
   "source": [
    "## 优化模型参数\n",
    "要训练模型，我们需要一个[损失函数](https://pytorch.org/docs/stable/nn.html#loss-functions)和一个[优化器](https://pytorch.org/docs/stable/optim.html)。"
   ],
   "metadata": {
    "collapsed": false
   }
  },
  {
   "cell_type": "code",
   "execution_count": 7,
   "outputs": [],
   "source": [
    "loos_fn = nn.CrossEntropyLoss()\n",
    "optimizer = torch.optim.SGD(model.parameters(), lr=1e-3)"
   ],
   "metadata": {
    "collapsed": false,
    "ExecuteTime": {
     "start_time": "2023-04-29T11:11:05.902201Z",
     "end_time": "2023-04-29T11:11:05.917826Z"
    }
   }
  },
  {
   "cell_type": "markdown",
   "source": [
    "在单个训练循环中，模型对训练数据集（分批输入）进行预测，并反向传播预测误差以调整模型的参数。"
   ],
   "metadata": {
    "collapsed": false
   }
  },
  {
   "cell_type": "code",
   "execution_count": 10,
   "outputs": [],
   "source": [
    "def train(dataloader, model, loss_fn, optimizer):\n",
    "    size = len(dataloader.dataset)\n",
    "    model.train()\n",
    "    for batch, (X, y) in enumerate(dataloader):\n",
    "        X, y = X.to(device), y.to(device)\n",
    "\n",
    "        # Compute prediction error\n",
    "        pred = model(X)\n",
    "        loss = loss_fn(pred, y)\n",
    "\n",
    "        # Backpropagation\n",
    "        optimizer.zero_grad()\n",
    "        loss.backward()\n",
    "        optimizer.step()\n",
    "\n",
    "        if batch % 10 == 0:\n",
    "            loss, current = loss.item(), (batch + 1) * len(X)\n",
    "            print(f\"loss: {loss:>7f}  [{current:>5d}/{size:>5d}]\")"
   ],
   "metadata": {
    "collapsed": false,
    "ExecuteTime": {
     "start_time": "2023-04-29T22:12:08.974777Z",
     "end_time": "2023-04-29T22:12:08.994278Z"
    }
   }
  },
  {
   "cell_type": "markdown",
   "source": [
    "我们还根据测试数据集检查模型的性能，以确保它正在学习。"
   ],
   "metadata": {
    "collapsed": false
   }
  },
  {
   "cell_type": "code",
   "execution_count": 11,
   "outputs": [],
   "source": [
    "def test(dataloader, model, loss_fn):\n",
    "    size = len(dataloader.dataset)\n",
    "    num_batches = len(dataloader)\n",
    "    model.eval()\n",
    "    test_loss, correct = 0, 0\n",
    "    with torch.no_grad():\n",
    "        for X, y in dataloader:\n",
    "            X, y = X.to(device), y.to(device)\n",
    "            pred = model(X)\n",
    "            test_loss += loss_fn(pred, y).item()\n",
    "            correct += (pred.argmax(1) == y).type(torch.float).sum().item()\n",
    "    test_loss /= num_batches\n",
    "    correct /= size\n",
    "    print(f\"Test Error: \\n Accuracy: {(100*correct):>0.1f}%, Avg loss: {test_loss:>8f} \\n\")"
   ],
   "metadata": {
    "collapsed": false,
    "ExecuteTime": {
     "start_time": "2023-04-29T22:13:01.134190Z",
     "end_time": "2023-04-29T22:13:01.149807Z"
    }
   }
  },
  {
   "cell_type": "markdown",
   "source": [
    "训练过程是在几个迭代（时期）进行的。在每个迭代内，模型都会学习参数以做出更好的预测。我们在每个时期都打印模型的准确性和损失；我们希望看到每个时期的准确性提高和损失下降。"
   ],
   "metadata": {
    "collapsed": false
   }
  },
  {
   "cell_type": "code",
   "execution_count": 12,
   "outputs": [
    {
     "name": "stdout",
     "output_type": "stream",
     "text": [
      "Epoch 1\n",
      "-------------------------------\n",
      "loss: 2.315501  [   64/60000]\n",
      "loss: 2.310323  [  704/60000]\n",
      "loss: 2.314732  [ 1344/60000]\n",
      "loss: 2.299647  [ 1984/60000]\n",
      "loss: 2.299818  [ 2624/60000]\n",
      "loss: 2.304317  [ 3264/60000]\n",
      "loss: 2.297630  [ 3904/60000]\n",
      "loss: 2.305325  [ 4544/60000]\n",
      "loss: 2.305777  [ 5184/60000]\n",
      "loss: 2.291766  [ 5824/60000]\n",
      "loss: 2.306197  [ 6464/60000]\n",
      "loss: 2.291735  [ 7104/60000]\n",
      "loss: 2.295366  [ 7744/60000]\n",
      "loss: 2.291661  [ 8384/60000]\n",
      "loss: 2.292646  [ 9024/60000]\n",
      "loss: 2.285110  [ 9664/60000]\n",
      "loss: 2.295316  [10304/60000]\n",
      "loss: 2.282382  [10944/60000]\n",
      "loss: 2.293025  [11584/60000]\n",
      "loss: 2.282354  [12224/60000]\n",
      "loss: 2.287026  [12864/60000]\n",
      "loss: 2.286879  [13504/60000]\n",
      "loss: 2.284072  [14144/60000]\n",
      "loss: 2.280036  [14784/60000]\n",
      "loss: 2.286460  [15424/60000]\n",
      "loss: 2.277164  [16064/60000]\n",
      "loss: 2.271809  [16704/60000]\n",
      "loss: 2.274873  [17344/60000]\n",
      "loss: 2.276842  [17984/60000]\n",
      "loss: 2.278392  [18624/60000]\n",
      "loss: 2.275007  [19264/60000]\n",
      "loss: 2.266371  [19904/60000]\n",
      "loss: 2.273279  [20544/60000]\n",
      "loss: 2.262914  [21184/60000]\n",
      "loss: 2.264652  [21824/60000]\n",
      "loss: 2.263863  [22464/60000]\n",
      "loss: 2.269736  [23104/60000]\n",
      "loss: 2.264883  [23744/60000]\n",
      "loss: 2.268970  [24384/60000]\n",
      "loss: 2.262628  [25024/60000]\n",
      "loss: 2.270916  [25664/60000]\n",
      "loss: 2.256135  [26304/60000]\n",
      "loss: 2.248092  [26944/60000]\n",
      "loss: 2.261042  [27584/60000]\n",
      "loss: 2.250596  [28224/60000]\n",
      "loss: 2.244074  [28864/60000]\n",
      "loss: 2.260696  [29504/60000]\n",
      "loss: 2.247303  [30144/60000]\n",
      "loss: 2.256478  [30784/60000]\n",
      "loss: 2.254082  [31424/60000]\n",
      "loss: 2.242629  [32064/60000]\n",
      "loss: 2.243909  [32704/60000]\n",
      "loss: 2.246984  [33344/60000]\n",
      "loss: 2.239283  [33984/60000]\n",
      "loss: 2.241642  [34624/60000]\n",
      "loss: 2.234500  [35264/60000]\n",
      "loss: 2.233675  [35904/60000]\n",
      "loss: 2.229644  [36544/60000]\n",
      "loss: 2.246770  [37184/60000]\n",
      "loss: 2.234210  [37824/60000]\n",
      "loss: 2.242181  [38464/60000]\n",
      "loss: 2.232546  [39104/60000]\n",
      "loss: 2.235803  [39744/60000]\n",
      "loss: 2.228043  [40384/60000]\n",
      "loss: 2.236639  [41024/60000]\n",
      "loss: 2.219536  [41664/60000]\n",
      "loss: 2.216737  [42304/60000]\n",
      "loss: 2.222879  [42944/60000]\n",
      "loss: 2.215551  [43584/60000]\n",
      "loss: 2.210845  [44224/60000]\n",
      "loss: 2.219229  [44864/60000]\n",
      "loss: 2.219565  [45504/60000]\n",
      "loss: 2.234157  [46144/60000]\n",
      "loss: 2.254876  [46784/60000]\n",
      "loss: 2.208421  [47424/60000]\n",
      "loss: 2.205415  [48064/60000]\n",
      "loss: 2.203855  [48704/60000]\n",
      "loss: 2.216094  [49344/60000]\n",
      "loss: 2.227318  [49984/60000]\n",
      "loss: 2.212614  [50624/60000]\n",
      "loss: 2.215062  [51264/60000]\n",
      "loss: 2.193912  [51904/60000]\n",
      "loss: 2.216850  [52544/60000]\n",
      "loss: 2.201735  [53184/60000]\n",
      "loss: 2.196637  [53824/60000]\n",
      "loss: 2.197871  [54464/60000]\n",
      "loss: 2.208230  [55104/60000]\n",
      "loss: 2.194719  [55744/60000]\n",
      "loss: 2.187099  [56384/60000]\n",
      "loss: 2.189947  [57024/60000]\n",
      "loss: 2.187479  [57664/60000]\n",
      "loss: 2.189518  [58304/60000]\n",
      "loss: 2.196948  [58944/60000]\n",
      "loss: 2.168187  [59584/60000]\n",
      "Test Error: \n",
      " Accuracy: 49.6%, Avg loss: 2.185288 \n",
      "\n",
      "Epoch 2\n",
      "-------------------------------\n",
      "loss: 2.195022  [   64/60000]\n",
      "loss: 2.171902  [  704/60000]\n",
      "loss: 2.177538  [ 1344/60000]\n",
      "loss: 2.173410  [ 1984/60000]\n",
      "loss: 2.170018  [ 2624/60000]\n",
      "loss: 2.197868  [ 3264/60000]\n",
      "loss: 2.169223  [ 3904/60000]\n",
      "loss: 2.158271  [ 4544/60000]\n",
      "loss: 2.165185  [ 5184/60000]\n",
      "loss: 2.178683  [ 5824/60000]\n",
      "loss: 2.190092  [ 6464/60000]\n",
      "loss: 2.167132  [ 7104/60000]\n",
      "loss: 2.157082  [ 7744/60000]\n",
      "loss: 2.140722  [ 8384/60000]\n",
      "loss: 2.160915  [ 9024/60000]\n",
      "loss: 2.153706  [ 9664/60000]\n",
      "loss: 2.177328  [10304/60000]\n",
      "loss: 2.143331  [10944/60000]\n",
      "loss: 2.165162  [11584/60000]\n",
      "loss: 2.136740  [12224/60000]\n",
      "loss: 2.140689  [12864/60000]\n",
      "loss: 2.163392  [13504/60000]\n",
      "loss: 2.153262  [14144/60000]\n",
      "loss: 2.118944  [14784/60000]\n",
      "loss: 2.160507  [15424/60000]\n",
      "loss: 2.144567  [16064/60000]\n",
      "loss: 2.120424  [16704/60000]\n",
      "loss: 2.129926  [17344/60000]\n",
      "loss: 2.135372  [17984/60000]\n",
      "loss: 2.131675  [18624/60000]\n",
      "loss: 2.149621  [19264/60000]\n",
      "loss: 2.123233  [19904/60000]\n",
      "loss: 2.121725  [20544/60000]\n",
      "loss: 2.089375  [21184/60000]\n",
      "loss: 2.127894  [21824/60000]\n",
      "loss: 2.105615  [22464/60000]\n",
      "loss: 2.132020  [23104/60000]\n",
      "loss: 2.122535  [23744/60000]\n",
      "loss: 2.139346  [24384/60000]\n",
      "loss: 2.111444  [25024/60000]\n",
      "loss: 2.117289  [25664/60000]\n",
      "loss: 2.096580  [26304/60000]\n",
      "loss: 2.066817  [26944/60000]\n",
      "loss: 2.122880  [27584/60000]\n",
      "loss: 2.096793  [28224/60000]\n",
      "loss: 2.070731  [28864/60000]\n",
      "loss: 2.124753  [29504/60000]\n",
      "loss: 2.073761  [30144/60000]\n",
      "loss: 2.112548  [30784/60000]\n",
      "loss: 2.099355  [31424/60000]\n",
      "loss: 2.064585  [32064/60000]\n",
      "loss: 2.049423  [32704/60000]\n",
      "loss: 2.080828  [33344/60000]\n",
      "loss: 2.079513  [33984/60000]\n",
      "loss: 2.074541  [34624/60000]\n",
      "loss: 2.036228  [35264/60000]\n",
      "loss: 2.047426  [35904/60000]\n",
      "loss: 2.041046  [36544/60000]\n",
      "loss: 2.094252  [37184/60000]\n",
      "loss: 2.065030  [37824/60000]\n",
      "loss: 2.083079  [38464/60000]\n",
      "loss: 2.045211  [39104/60000]\n",
      "loss: 2.066020  [39744/60000]\n",
      "loss: 2.035277  [40384/60000]\n",
      "loss: 2.069653  [41024/60000]\n",
      "loss: 2.023279  [41664/60000]\n",
      "loss: 2.024177  [42304/60000]\n",
      "loss: 2.048559  [42944/60000]\n",
      "loss: 2.023086  [43584/60000]\n",
      "loss: 2.001525  [44224/60000]\n",
      "loss: 2.021348  [44864/60000]\n",
      "loss: 2.032643  [45504/60000]\n",
      "loss: 2.064558  [46144/60000]\n",
      "loss: 2.121808  [46784/60000]\n",
      "loss: 2.014473  [47424/60000]\n",
      "loss: 1.993564  [48064/60000]\n",
      "loss: 1.983452  [48704/60000]\n",
      "loss: 2.025364  [49344/60000]\n",
      "loss: 2.042122  [49984/60000]\n",
      "loss: 2.027514  [50624/60000]\n",
      "loss: 2.028436  [51264/60000]\n",
      "loss: 1.971325  [51904/60000]\n",
      "loss: 2.028188  [52544/60000]\n",
      "loss: 1.987341  [53184/60000]\n",
      "loss: 1.980594  [53824/60000]\n",
      "loss: 1.987263  [54464/60000]\n",
      "loss: 2.004378  [55104/60000]\n",
      "loss: 1.961370  [55744/60000]\n",
      "loss: 1.968862  [56384/60000]\n",
      "loss: 1.971195  [57024/60000]\n",
      "loss: 1.959484  [57664/60000]\n",
      "loss: 1.970486  [58304/60000]\n",
      "loss: 1.987599  [58944/60000]\n",
      "loss: 1.933545  [59584/60000]\n",
      "Test Error: \n",
      " Accuracy: 59.7%, Avg loss: 1.959155 \n",
      "\n",
      "Epoch 3\n",
      "-------------------------------\n",
      "loss: 1.989724  [   64/60000]\n",
      "loss: 1.916044  [  704/60000]\n",
      "loss: 1.943274  [ 1344/60000]\n",
      "loss: 1.946120  [ 1984/60000]\n",
      "loss: 1.930623  [ 2624/60000]\n",
      "loss: 1.987654  [ 3264/60000]\n",
      "loss: 1.929229  [ 3904/60000]\n",
      "loss: 1.901375  [ 4544/60000]\n",
      "loss: 1.925783  [ 5184/60000]\n",
      "loss: 1.958827  [ 5824/60000]\n",
      "loss: 1.965943  [ 6464/60000]\n",
      "loss: 1.905544  [ 7104/60000]\n",
      "loss: 1.891600  [ 7744/60000]\n",
      "loss: 1.878700  [ 8384/60000]\n",
      "loss: 1.911818  [ 9024/60000]\n",
      "loss: 1.911035  [ 9664/60000]\n",
      "loss: 1.956380  [10304/60000]\n",
      "loss: 1.891351  [10944/60000]\n",
      "loss: 1.926406  [11584/60000]\n",
      "loss: 1.866823  [12224/60000]\n",
      "loss: 1.862138  [12864/60000]\n",
      "loss: 1.916671  [13504/60000]\n",
      "loss: 1.907870  [14144/60000]\n",
      "loss: 1.813523  [14784/60000]\n",
      "loss: 1.896475  [15424/60000]\n",
      "loss: 1.900801  [16064/60000]\n",
      "loss: 1.813375  [16704/60000]\n",
      "loss: 1.862894  [17344/60000]\n",
      "loss: 1.869172  [17984/60000]\n",
      "loss: 1.855156  [18624/60000]\n",
      "loss: 1.884759  [19264/60000]\n",
      "loss: 1.855433  [19904/60000]\n",
      "loss: 1.798601  [20544/60000]\n",
      "loss: 1.761472  [21184/60000]\n",
      "loss: 1.846934  [21824/60000]\n",
      "loss: 1.791659  [22464/60000]\n",
      "loss: 1.874149  [23104/60000]\n",
      "loss: 1.839978  [23744/60000]\n",
      "loss: 1.890799  [24384/60000]\n",
      "loss: 1.811285  [25024/60000]\n",
      "loss: 1.800101  [25664/60000]\n",
      "loss: 1.789768  [26304/60000]\n",
      "loss: 1.713549  [26944/60000]\n",
      "loss: 1.832235  [27584/60000]\n",
      "loss: 1.784034  [28224/60000]\n",
      "loss: 1.760792  [28864/60000]\n",
      "loss: 1.863751  [29504/60000]\n",
      "loss: 1.754234  [30144/60000]\n",
      "loss: 1.808064  [30784/60000]\n",
      "loss: 1.782054  [31424/60000]\n",
      "loss: 1.744180  [32064/60000]\n",
      "loss: 1.677809  [32704/60000]\n",
      "loss: 1.744653  [33344/60000]\n",
      "loss: 1.780085  [33984/60000]\n",
      "loss: 1.761361  [34624/60000]\n",
      "loss: 1.660969  [35264/60000]\n",
      "loss: 1.703080  [35904/60000]\n",
      "loss: 1.708031  [36544/60000]\n",
      "loss: 1.777158  [37184/60000]\n",
      "loss: 1.743104  [37824/60000]\n",
      "loss: 1.758004  [38464/60000]\n",
      "loss: 1.687753  [39104/60000]\n",
      "loss: 1.755098  [39744/60000]\n",
      "loss: 1.678713  [40384/60000]\n",
      "loss: 1.754517  [41024/60000]\n",
      "loss: 1.680834  [41664/60000]\n",
      "loss: 1.687758  [42304/60000]\n",
      "loss: 1.739816  [42944/60000]\n",
      "loss: 1.677446  [43584/60000]\n",
      "loss: 1.640313  [44224/60000]\n",
      "loss: 1.669032  [44864/60000]\n",
      "loss: 1.677894  [45504/60000]\n",
      "loss: 1.733956  [46144/60000]\n",
      "loss: 1.835272  [46784/60000]\n",
      "loss: 1.686584  [47424/60000]\n",
      "loss: 1.613534  [48064/60000]\n",
      "loss: 1.631954  [48704/60000]\n",
      "loss: 1.687608  [49344/60000]\n",
      "loss: 1.705360  [49984/60000]\n",
      "loss: 1.715678  [50624/60000]\n",
      "loss: 1.694618  [51264/60000]\n",
      "loss: 1.605523  [51904/60000]\n",
      "loss: 1.697547  [52544/60000]\n",
      "loss: 1.619309  [53184/60000]\n",
      "loss: 1.625399  [53824/60000]\n",
      "loss: 1.630565  [54464/60000]\n",
      "loss: 1.640347  [55104/60000]\n",
      "loss: 1.572357  [55744/60000]\n",
      "loss: 1.622302  [56384/60000]\n",
      "loss: 1.616148  [57024/60000]\n",
      "loss: 1.578857  [57664/60000]\n",
      "loss: 1.619505  [58304/60000]\n",
      "loss: 1.652291  [58944/60000]\n",
      "loss: 1.576713  [59584/60000]\n",
      "Test Error: \n",
      " Accuracy: 60.1%, Avg loss: 1.598540 \n",
      "\n",
      "Epoch 4\n",
      "-------------------------------\n",
      "loss: 1.666401  [   64/60000]\n",
      "loss: 1.497940  [  704/60000]\n",
      "loss: 1.591723  [ 1344/60000]\n",
      "loss: 1.584467  [ 1984/60000]\n",
      "loss: 1.562962  [ 2624/60000]\n",
      "loss: 1.643656  [ 3264/60000]\n",
      "loss: 1.566354  [ 3904/60000]\n",
      "loss: 1.534604  [ 4544/60000]\n",
      "loss: 1.579608  [ 5184/60000]\n",
      "loss: 1.619016  [ 5824/60000]\n",
      "loss: 1.628700  [ 6464/60000]\n",
      "loss: 1.516142  [ 7104/60000]\n",
      "loss: 1.513668  [ 7744/60000]\n",
      "loss: 1.525141  [ 8384/60000]\n",
      "loss: 1.550804  [ 9024/60000]\n",
      "loss: 1.574627  [ 9664/60000]\n",
      "loss: 1.651915  [10304/60000]\n",
      "loss: 1.545897  [10944/60000]\n",
      "loss: 1.593857  [11584/60000]\n",
      "loss: 1.510841  [12224/60000]\n",
      "loss: 1.486064  [12864/60000]\n",
      "loss: 1.589733  [13504/60000]\n",
      "loss: 1.571617  [14144/60000]\n",
      "loss: 1.424512  [14784/60000]\n",
      "loss: 1.539545  [15424/60000]\n",
      "loss: 1.575368  [16064/60000]\n",
      "loss: 1.408687  [16704/60000]\n",
      "loss: 1.517990  [17344/60000]\n",
      "loss: 1.525408  [17984/60000]\n",
      "loss: 1.506746  [18624/60000]\n",
      "loss: 1.532040  [19264/60000]\n",
      "loss: 1.516926  [19904/60000]\n",
      "loss: 1.382010  [20544/60000]\n",
      "loss: 1.374127  [21184/60000]\n",
      "loss: 1.487507  [21824/60000]\n",
      "loss: 1.401917  [22464/60000]\n",
      "loss: 1.567994  [23104/60000]\n",
      "loss: 1.483806  [23744/60000]\n",
      "loss: 1.573028  [24384/60000]\n",
      "loss: 1.449738  [25024/60000]\n",
      "loss: 1.430413  [25664/60000]\n",
      "loss: 1.444989  [26304/60000]\n",
      "loss: 1.321993  [26944/60000]\n",
      "loss: 1.486197  [27584/60000]\n",
      "loss: 1.419306  [28224/60000]\n",
      "loss: 1.425554  [28864/60000]\n",
      "loss: 1.555139  [29504/60000]\n",
      "loss: 1.405782  [30144/60000]\n",
      "loss: 1.468874  [30784/60000]\n",
      "loss: 1.419929  [31424/60000]\n",
      "loss: 1.414911  [32064/60000]\n",
      "loss: 1.307459  [32704/60000]\n",
      "loss: 1.373536  [33344/60000]\n",
      "loss: 1.465979  [33984/60000]\n",
      "loss: 1.435786  [34624/60000]\n",
      "loss: 1.296309  [35264/60000]\n",
      "loss: 1.354672  [35904/60000]\n",
      "loss: 1.363845  [36544/60000]\n",
      "loss: 1.430680  [37184/60000]\n",
      "loss: 1.403471  [37824/60000]\n",
      "loss: 1.417712  [38464/60000]\n",
      "loss: 1.330900  [39104/60000]\n",
      "loss: 1.435499  [39744/60000]\n",
      "loss: 1.326868  [40384/60000]\n",
      "loss: 1.440696  [41024/60000]\n",
      "loss: 1.358974  [41664/60000]\n",
      "loss: 1.374862  [42304/60000]\n",
      "loss: 1.426094  [42944/60000]\n",
      "loss: 1.344439  [43584/60000]\n",
      "loss: 1.317330  [44224/60000]\n",
      "loss: 1.353264  [44864/60000]\n",
      "loss: 1.332514  [45504/60000]\n",
      "loss: 1.433678  [46144/60000]\n",
      "loss: 1.513188  [46784/60000]\n",
      "loss: 1.372674  [47424/60000]\n",
      "loss: 1.261090  [48064/60000]\n",
      "loss: 1.348980  [48704/60000]\n",
      "loss: 1.380198  [49344/60000]\n",
      "loss: 1.401212  [49984/60000]\n",
      "loss: 1.423122  [50624/60000]\n",
      "loss: 1.390104  [51264/60000]\n",
      "loss: 1.303238  [51904/60000]\n",
      "loss: 1.383045  [52544/60000]\n",
      "loss: 1.308442  [53184/60000]\n",
      "loss: 1.307572  [53824/60000]\n",
      "loss: 1.328305  [54464/60000]\n",
      "loss: 1.325698  [55104/60000]\n",
      "loss: 1.270605  [55744/60000]\n",
      "loss: 1.328155  [56384/60000]\n",
      "loss: 1.330677  [57024/60000]\n",
      "loss: 1.272044  [57664/60000]\n",
      "loss: 1.309056  [58304/60000]\n",
      "loss: 1.379852  [58944/60000]\n",
      "loss: 1.280135  [59584/60000]\n",
      "Test Error: \n",
      " Accuracy: 62.2%, Avg loss: 1.306671 \n",
      "\n",
      "Epoch 5\n",
      "-------------------------------\n",
      "loss: 1.388844  [   64/60000]\n",
      "loss: 1.169969  [  704/60000]\n",
      "loss: 1.307990  [ 1344/60000]\n",
      "loss: 1.278889  [ 1984/60000]\n",
      "loss: 1.273198  [ 2624/60000]\n",
      "loss: 1.353875  [ 3264/60000]\n",
      "loss: 1.298175  [ 3904/60000]\n",
      "loss: 1.260528  [ 4544/60000]\n",
      "loss: 1.309788  [ 5184/60000]\n",
      "loss: 1.334257  [ 5824/60000]\n",
      "loss: 1.368058  [ 6464/60000]\n",
      "loss: 1.255568  [ 7104/60000]\n",
      "loss: 1.245780  [ 7744/60000]\n",
      "loss: 1.268995  [ 8384/60000]\n",
      "loss: 1.290067  [ 9024/60000]\n",
      "loss: 1.343114  [ 9664/60000]\n",
      "loss: 1.425001  [10304/60000]\n",
      "loss: 1.288587  [10944/60000]\n",
      "loss: 1.351874  [11584/60000]\n",
      "loss: 1.250301  [12224/60000]\n",
      "loss: 1.207737  [12864/60000]\n",
      "loss: 1.355499  [13504/60000]\n",
      "loss: 1.310652  [14144/60000]\n",
      "loss: 1.156895  [14784/60000]\n",
      "loss: 1.294885  [15424/60000]\n",
      "loss: 1.325840  [16064/60000]\n",
      "loss: 1.129976  [16704/60000]\n",
      "loss: 1.266559  [17344/60000]\n",
      "loss: 1.270871  [17984/60000]\n",
      "loss: 1.266754  [18624/60000]\n",
      "loss: 1.287640  [19264/60000]\n",
      "loss: 1.271544  [19904/60000]\n",
      "loss: 1.102557  [20544/60000]\n",
      "loss: 1.107875  [21184/60000]\n",
      "loss: 1.239991  [21824/60000]\n",
      "loss: 1.127046  [22464/60000]\n",
      "loss: 1.350909  [23104/60000]\n",
      "loss: 1.227332  [23744/60000]\n",
      "loss: 1.339340  [24384/60000]\n",
      "loss: 1.200870  [25024/60000]\n",
      "loss: 1.173961  [25664/60000]\n",
      "loss: 1.222098  [26304/60000]\n",
      "loss: 1.072930  [26944/60000]\n",
      "loss: 1.253512  [27584/60000]\n",
      "loss: 1.179623  [28224/60000]\n",
      "loss: 1.219889  [28864/60000]\n",
      "loss: 1.333469  [29504/60000]\n",
      "loss: 1.182163  [30144/60000]\n",
      "loss: 1.264857  [30784/60000]\n",
      "loss: 1.168310  [31424/60000]\n",
      "loss: 1.193355  [32064/60000]\n",
      "loss: 1.073985  [32704/60000]\n",
      "loss: 1.119694  [33344/60000]\n",
      "loss: 1.266118  [33984/60000]\n",
      "loss: 1.222643  [34624/60000]\n",
      "loss: 1.061180  [35264/60000]\n",
      "loss: 1.132907  [35904/60000]\n",
      "loss: 1.139093  [36544/60000]\n",
      "loss: 1.197657  [37184/60000]\n",
      "loss: 1.181538  [37824/60000]\n",
      "loss: 1.202312  [38464/60000]\n",
      "loss: 1.105298  [39104/60000]\n",
      "loss: 1.224816  [39744/60000]\n",
      "loss: 1.088901  [40384/60000]\n",
      "loss: 1.224268  [41024/60000]\n",
      "loss: 1.152761  [41664/60000]\n",
      "loss: 1.181840  [42304/60000]\n",
      "loss: 1.214354  [42944/60000]\n",
      "loss: 1.138769  [43584/60000]\n",
      "loss: 1.114731  [44224/60000]\n",
      "loss: 1.155273  [44864/60000]\n",
      "loss: 1.111274  [45504/60000]\n",
      "loss: 1.244714  [46144/60000]\n",
      "loss: 1.289004  [46784/60000]\n",
      "loss: 1.162537  [47424/60000]\n",
      "loss: 1.031487  [48064/60000]\n",
      "loss: 1.170993  [48704/60000]\n",
      "loss: 1.183369  [49344/60000]\n",
      "loss: 1.207536  [49984/60000]\n",
      "loss: 1.232332  [50624/60000]\n",
      "loss: 1.194294  [51264/60000]\n",
      "loss: 1.119110  [51904/60000]\n",
      "loss: 1.175067  [52544/60000]\n",
      "loss: 1.125537  [53184/60000]\n",
      "loss: 1.095665  [53824/60000]\n",
      "loss: 1.148869  [54464/60000]\n",
      "loss: 1.126114  [55104/60000]\n",
      "loss: 1.081053  [55744/60000]\n",
      "loss: 1.139884  [56384/60000]\n",
      "loss: 1.159317  [57024/60000]\n",
      "loss: 1.094699  [57664/60000]\n",
      "loss: 1.095320  [58304/60000]\n",
      "loss: 1.211066  [58944/60000]\n",
      "loss: 1.099302  [59584/60000]\n",
      "Test Error: \n",
      " Accuracy: 64.0%, Avg loss: 1.124475 \n",
      "\n",
      "Done!\n"
     ]
    }
   ],
   "source": [
    "epochs = 5\n",
    "for t in range(epochs):\n",
    "    print(f\"Epoch {t+1}\\n-------------------------------\")\n",
    "    train(train_dataloader, model, loos_fn, optimizer)\n",
    "    test(test_dataloader, model, loos_fn)\n",
    "print(\"Done!\")"
   ],
   "metadata": {
    "collapsed": false,
    "ExecuteTime": {
     "start_time": "2023-04-29T22:13:29.359082Z",
     "end_time": "2023-04-29T22:14:31.945262Z"
    }
   }
  },
  {
   "cell_type": "markdown",
   "source": [
    "阅读有关[训练模型](https://pytorch.org/tutorials/beginner/basics/optimization_tutorial.html)的更多信息。"
   ],
   "metadata": {
    "collapsed": false
   }
  },
  {
   "cell_type": "markdown",
   "source": [
    "## 保存模型\n",
    "保存模型的一种常见方法是序列化内部状态字典（包含模型参数）。"
   ],
   "metadata": {
    "collapsed": false
   }
  },
  {
   "cell_type": "code",
   "execution_count": 13,
   "outputs": [
    {
     "name": "stdout",
     "output_type": "stream",
     "text": [
      "Saved PyTorch Model State to model.pth\n"
     ]
    }
   ],
   "source": [
    "torch.save(model.state_dict(), \"model.pth\")\n",
    "print(\"Saved PyTorch Model State to model.pth\")"
   ],
   "metadata": {
    "collapsed": false,
    "ExecuteTime": {
     "start_time": "2023-04-29T22:19:49.869618Z",
     "end_time": "2023-04-29T22:19:50.173292Z"
    }
   }
  },
  {
   "cell_type": "markdown",
   "source": [
    "## 加载模型\n",
    "加载模型的过程包括重新创建模型结构并将状态字典加载到其中。"
   ],
   "metadata": {
    "collapsed": false
   }
  },
  {
   "cell_type": "code",
   "execution_count": 14,
   "outputs": [
    {
     "data": {
      "text/plain": "<All keys matched successfully>"
     },
     "execution_count": 14,
     "metadata": {},
     "output_type": "execute_result"
    }
   ],
   "source": [
    "model = NeuralNetwork().to(device)\n",
    "model.load_state_dict(torch.load(\"model.pth\"))"
   ],
   "metadata": {
    "collapsed": false,
    "ExecuteTime": {
     "start_time": "2023-04-29T22:21:38.363976Z",
     "end_time": "2023-04-29T22:21:38.686660Z"
    }
   }
  },
  {
   "cell_type": "markdown",
   "source": [
    "现在，该模型可以用于做出预测。"
   ],
   "metadata": {
    "collapsed": false
   }
  },
  {
   "cell_type": "code",
   "execution_count": 15,
   "outputs": [
    {
     "name": "stdout",
     "output_type": "stream",
     "text": [
      "Predicted: \"Ankle boot\", Actual: \"Ankle boot\"\n"
     ]
    }
   ],
   "source": [
    "classes = [\n",
    "    \"T-shirt/top\",\n",
    "    \"Trouser\",\n",
    "    \"Pullover\",\n",
    "    \"Dress\",\n",
    "    \"Coat\",\n",
    "    \"Sandal\",\n",
    "    \"Shirt\",\n",
    "    \"Sneaker\",\n",
    "    \"Bag\",\n",
    "    \"Ankle boot\",\n",
    "]\n",
    "\n",
    "model.eval()\n",
    "x, y = test_data[0][0], test_data[0][1]\n",
    "with torch.no_grad():\n",
    "    x = x.to(device)\n",
    "    pred = model(x)\n",
    "    predicted, actual = classes[pred[0].argmax(0)], classes[y]\n",
    "    print(f'Predicted: \"{predicted}\", Actual: \"{actual}\"')"
   ],
   "metadata": {
    "collapsed": false,
    "ExecuteTime": {
     "start_time": "2023-04-29T22:22:50.672872Z",
     "end_time": "2023-04-29T22:22:50.753119Z"
    }
   }
  },
  {
   "cell_type": "markdown",
   "source": [
    "阅读有关[保存和加载模型](https://pytorch.org/tutorials/beginner/basics/saveloadrun_tutorial.html)的更多信息。"
   ],
   "metadata": {
    "collapsed": false
   }
  },
  {
   "cell_type": "code",
   "execution_count": null,
   "outputs": [],
   "source": [],
   "metadata": {
    "collapsed": false
   }
  }
 ],
 "metadata": {
  "kernelspec": {
   "display_name": "Python 3",
   "language": "python",
   "name": "python3"
  },
  "language_info": {
   "codemirror_mode": {
    "name": "ipython",
    "version": 2
   },
   "file_extension": ".py",
   "mimetype": "text/x-python",
   "name": "python",
   "nbconvert_exporter": "python",
   "pygments_lexer": "ipython2",
   "version": "2.7.6"
  }
 },
 "nbformat": 4,
 "nbformat_minor": 0
}
